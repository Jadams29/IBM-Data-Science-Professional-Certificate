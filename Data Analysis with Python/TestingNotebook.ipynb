{
 "cells": [
  {
   "cell_type": "code",
   "execution_count": 2,
   "id": "26cf549a",
   "metadata": {},
   "outputs": [],
   "source": [
    "import pandas as pd\n",
    "import numpy as np\n",
    "import seaborn as sns\n",
    "import matplotlib.pyplot as plt\n",
    "\n",
    "%matplotlib inline"
   ]
  },
  {
   "cell_type": "code",
   "execution_count": 27,
   "id": "750d92ed",
   "metadata": {},
   "outputs": [
    {
     "data": {
      "text/html": [
       "<div>\n",
       "<style scoped>\n",
       "    .dataframe tbody tr th:only-of-type {\n",
       "        vertical-align: middle;\n",
       "    }\n",
       "\n",
       "    .dataframe tbody tr th {\n",
       "        vertical-align: top;\n",
       "    }\n",
       "\n",
       "    .dataframe thead th {\n",
       "        text-align: right;\n",
       "    }\n",
       "</style>\n",
       "<table border=\"1\" class=\"dataframe\">\n",
       "  <thead>\n",
       "    <tr style=\"text-align: right;\">\n",
       "      <th></th>\n",
       "      <th>Year</th>\n",
       "      <th>Price</th>\n",
       "      <th>Fuel</th>\n",
       "    </tr>\n",
       "  </thead>\n",
       "  <tbody>\n",
       "    <tr>\n",
       "      <th>0</th>\n",
       "      <td>1995.0</td>\n",
       "      <td>33830.17</td>\n",
       "      <td>Gas</td>\n",
       "    </tr>\n",
       "    <tr>\n",
       "      <th>1</th>\n",
       "      <td>2003.0</td>\n",
       "      <td>38551.60</td>\n",
       "      <td>Gas</td>\n",
       "    </tr>\n",
       "    <tr>\n",
       "      <th>2</th>\n",
       "      <td>1971.0</td>\n",
       "      <td>14142.30</td>\n",
       "      <td>Gas</td>\n",
       "    </tr>\n",
       "    <tr>\n",
       "      <th>3</th>\n",
       "      <td>1988.0</td>\n",
       "      <td>16194.56</td>\n",
       "      <td>Gas</td>\n",
       "    </tr>\n",
       "    <tr>\n",
       "      <th>4</th>\n",
       "      <td>1985.0</td>\n",
       "      <td>44012.93</td>\n",
       "      <td>Diesel</td>\n",
       "    </tr>\n",
       "    <tr>\n",
       "      <th>5</th>\n",
       "      <td>2007.0</td>\n",
       "      <td>32176.68</td>\n",
       "      <td>Gas</td>\n",
       "    </tr>\n",
       "    <tr>\n",
       "      <th>6</th>\n",
       "      <td>1983.0</td>\n",
       "      <td>11715.90</td>\n",
       "      <td>Gas</td>\n",
       "    </tr>\n",
       "    <tr>\n",
       "      <th>7</th>\n",
       "      <td>2001.0</td>\n",
       "      <td>46560.89</td>\n",
       "      <td>Diesel</td>\n",
       "    </tr>\n",
       "    <tr>\n",
       "      <th>8</th>\n",
       "      <td>1973.0</td>\n",
       "      <td>8567.30</td>\n",
       "      <td>Gas</td>\n",
       "    </tr>\n",
       "    <tr>\n",
       "      <th>9</th>\n",
       "      <td>1985.0</td>\n",
       "      <td>32552.30</td>\n",
       "      <td>Diesel</td>\n",
       "    </tr>\n",
       "  </tbody>\n",
       "</table>\n",
       "</div>"
      ],
      "text/plain": [
       "     Year     Price    Fuel\n",
       "0  1995.0  33830.17     Gas\n",
       "1  2003.0  38551.60     Gas\n",
       "2  1971.0  14142.30     Gas\n",
       "3  1988.0  16194.56     Gas\n",
       "4  1985.0  44012.93  Diesel\n",
       "5  2007.0  32176.68     Gas\n",
       "6  1983.0  11715.90     Gas\n",
       "7  2001.0  46560.89  Diesel\n",
       "8  1973.0   8567.30     Gas\n",
       "9  1985.0  32552.30  Diesel"
      ]
     },
     "execution_count": 27,
     "metadata": {},
     "output_type": "execute_result"
    }
   ],
   "source": [
    "numRows = 100\n",
    "numColumns = 2\n",
    "data = np.zeros(shape=(numRows, numColumns))\n",
    "# Year\n",
    "data[:, 0] = np.random.randint(low=1970, high=2010, size=numRows)\n",
    "\n",
    "# Price\n",
    "data[:, 1] = np.round(np.random.uniform(low=8000, high=49999, size=numRows), 2)\n",
    "\n",
    "df = pd.DataFrame(data, columns=[\"Year\", \"Price\"])\n",
    "\n",
    "# Add Fuel\n",
    "df[\"Fuel\"] = np.random.choice([\"Gas\", \"Diesel\"], numRows, p=[0.75, 0.25])\n",
    "\n",
    "originalDF = df.copy(deep=True)\n",
    "originalDF.head(10)"
   ]
  },
  {
   "cell_type": "markdown",
   "id": "e28b5084",
   "metadata": {},
   "source": [
    "# Data Wrangling"
   ]
  },
  {
   "cell_type": "markdown",
   "id": "aa69a560",
   "metadata": {
    "heading_collapsed": true
   },
   "source": [
    "## Data Normalization"
   ]
  },
  {
   "cell_type": "markdown",
   "id": "6a93b8f8",
   "metadata": {
    "hidden": true
   },
   "source": [
    "### Simple Feature Scaling"
   ]
  },
  {
   "cell_type": "markdown",
   "id": "9ea07df8",
   "metadata": {
    "hidden": true
   },
   "source": [
    "$$x_{new} = \\frac{x_{old}}{x_{max}}$$"
   ]
  },
  {
   "cell_type": "code",
   "execution_count": 19,
   "id": "9b258760",
   "metadata": {
    "hidden": true
   },
   "outputs": [
    {
     "name": "stdout",
     "output_type": "stream",
     "text": [
      "Prices before Normalization\n",
      " 0    47332.33\n",
      "1    12892.17\n",
      "2    24812.52\n",
      "3    18798.21\n",
      "4    27198.54\n",
      "5    17286.64\n",
      "6    47277.57\n",
      "7    35729.30\n",
      "8    41044.16\n",
      "9    12501.93\n",
      "Name: Price, dtype: float64\n",
      "Prices after Normalization\n",
      " 0    0.967389\n",
      "1    0.263493\n",
      "2    0.507124\n",
      "3    0.384202\n",
      "4    0.555890\n",
      "5    0.353308\n",
      "6    0.966270\n",
      "7    0.730244\n",
      "8    0.838870\n",
      "9    0.255517\n",
      "Name: Price, dtype: float64\n"
     ]
    }
   ],
   "source": [
    "print(\"Prices before Normalization\\n\", df[\"Price\"].head(10))\n",
    "df[\"Price\"] = df[\"Price\"] / df[\"Price\"].max()\n",
    "\n",
    "print(\"Prices after Normalization\\n\", df[\"Price\"].head(10))\n",
    "\n",
    "# Reset the Dataframe for next section\n",
    "df = originalDF.copy(deep=True)"
   ]
  },
  {
   "cell_type": "markdown",
   "id": "77a8d0c5",
   "metadata": {
    "heading_collapsed": true,
    "hidden": true
   },
   "source": [
    "### Min-Max Scaling"
   ]
  },
  {
   "cell_type": "markdown",
   "id": "3f7b6dcf",
   "metadata": {
    "hidden": true
   },
   "source": [
    "$$x_{new} = \\frac{x_{old} - x_{min}}{x_{max} - x_{min}}$$"
   ]
  },
  {
   "cell_type": "code",
   "execution_count": 20,
   "id": "106e57bb",
   "metadata": {
    "hidden": true
   },
   "outputs": [
    {
     "name": "stdout",
     "output_type": "stream",
     "text": [
      "Prices before Normalization\n",
      " 0    47332.33\n",
      "1    12892.17\n",
      "2    24812.52\n",
      "3    18798.21\n",
      "4    27198.54\n",
      "5    17286.64\n",
      "6    47277.57\n",
      "7    35729.30\n",
      "8    41044.16\n",
      "9    12501.93\n",
      "Name: Price, dtype: float64\n",
      "Prices after Normalization\n",
      " 0    0.961004\n",
      "1    0.119282\n",
      "2    0.410617\n",
      "3    0.263626\n",
      "4    0.468931\n",
      "5    0.226683\n",
      "6    0.959665\n",
      "7    0.677424\n",
      "8    0.807320\n",
      "9    0.109744\n",
      "Name: Price, dtype: float64\n"
     ]
    }
   ],
   "source": [
    "print(\"Prices before Normalization\\n\", df[\"Price\"].head(10))\n",
    "df[\"Price\"] = (df[\"Price\"] - df[\"Price\"].min()) / (df[\"Price\"].max() - df[\"Price\"].min())\n",
    "print(\"Prices after Normalization\\n\", df[\"Price\"].head(10))\n",
    "# Reset the Dataframe for next section\n",
    "df = originalDF.copy(deep=True)"
   ]
  },
  {
   "cell_type": "markdown",
   "id": "3b1ad59c",
   "metadata": {
    "hidden": true
   },
   "source": [
    "### Z-Score Scaling"
   ]
  },
  {
   "cell_type": "markdown",
   "id": "fa4fff32",
   "metadata": {
    "hidden": true
   },
   "source": [
    "$$x_{new} = \\frac{x_{old} - \\mu}{\\sigma}$$"
   ]
  },
  {
   "cell_type": "code",
   "execution_count": 21,
   "id": "b51ea5c1",
   "metadata": {
    "hidden": true
   },
   "outputs": [
    {
     "name": "stdout",
     "output_type": "stream",
     "text": [
      "Prices before Normalization\n",
      " 0    47332.33\n",
      "1    12892.17\n",
      "2    24812.52\n",
      "3    18798.21\n",
      "4    27198.54\n",
      "5    17286.64\n",
      "6    47277.57\n",
      "7    35729.30\n",
      "8    41044.16\n",
      "9    12501.93\n",
      "Name: Price, dtype: float64\n",
      "Prices after Normalization\n",
      " 0    1.480861\n",
      "1   -1.220548\n",
      "2   -0.285543\n",
      "3   -0.757292\n",
      "4   -0.098388\n",
      "5   -0.875856\n",
      "6    1.476566\n",
      "7    0.570745\n",
      "8    0.987631\n",
      "9   -1.251158\n",
      "Name: Price, dtype: float64\n"
     ]
    }
   ],
   "source": [
    "print(\"Prices before Normalization\\n\", df[\"Price\"].head(10))\n",
    "df[\"Price\"] = (df[\"Price\"] - df[\"Price\"].mean()) / df[\"Price\"].std()\n",
    "print(\"Prices after Normalization\\n\", df[\"Price\"].head(10))\n",
    "# Reset the Dataframe for next section\n",
    "df = originalDF.copy(deep=True)"
   ]
  },
  {
   "cell_type": "markdown",
   "id": "3b360489",
   "metadata": {
    "heading_collapsed": true
   },
   "source": [
    "## Binning Data"
   ]
  },
  {
   "cell_type": "markdown",
   "id": "9a027138",
   "metadata": {
    "hidden": true
   },
   "source": []
  },
  {
   "cell_type": "markdown",
   "id": "54294839",
   "metadata": {
    "heading_collapsed": true,
    "hidden": true
   },
   "source": [
    "#### Create Four Bins of equal length"
   ]
  },
  {
   "cell_type": "code",
   "execution_count": 28,
   "id": "ae10c272",
   "metadata": {
    "hidden": true
   },
   "outputs": [
    {
     "data": {
      "text/plain": [
       "0      (22043.72, 35925.4]\n",
       "1      (35925.4, 49807.08]\n",
       "2     (8162.039, 22043.72]\n",
       "3     (8162.039, 22043.72]\n",
       "4      (35925.4, 49807.08]\n",
       "              ...         \n",
       "95     (22043.72, 35925.4]\n",
       "96     (22043.72, 35925.4]\n",
       "97    (8162.039, 22043.72]\n",
       "98     (35925.4, 49807.08]\n",
       "99     (22043.72, 35925.4]\n",
       "Name: Price-Binned, Length: 100, dtype: category\n",
       "Categories (3, interval[float64]): [(8162.039, 22043.72] < (22043.72, 35925.4] < (35925.4, 49807.08]]"
      ]
     },
     "execution_count": 28,
     "metadata": {},
     "output_type": "execute_result"
    }
   ],
   "source": [
    "bins = np.linspace(df[\"Price\"].min(), df[\"Price\"].max(), 4)\n",
    "binNames = [\"Low\", \"Medium\", \"High\"]\n",
    "df[\"Price-Binned\"] = pd.cut(df[\"Price\"], bins, binNames, include_lowest=True)\n",
    "df[\"Price-Binned\"]"
   ]
  },
  {
   "cell_type": "markdown",
   "id": "6a55655d",
   "metadata": {
    "heading_collapsed": true
   },
   "source": [
    "## Categorical Encoding"
   ]
  },
  {
   "cell_type": "code",
   "execution_count": 35,
   "id": "8a0b32c2",
   "metadata": {
    "hidden": true
   },
   "outputs": [],
   "source": [
    "# Reset dataframe\n",
    "df = originalDF.copy(deep=True)"
   ]
  },
  {
   "cell_type": "markdown",
   "id": "c56ccbe8",
   "metadata": {
    "heading_collapsed": true,
    "hidden": true
   },
   "source": [
    "### One-Hot Encoding"
   ]
  },
  {
   "cell_type": "code",
   "execution_count": 36,
   "id": "52b7c828",
   "metadata": {
    "hidden": true
   },
   "outputs": [
    {
     "data": {
      "text/html": [
       "<div>\n",
       "<style scoped>\n",
       "    .dataframe tbody tr th:only-of-type {\n",
       "        vertical-align: middle;\n",
       "    }\n",
       "\n",
       "    .dataframe tbody tr th {\n",
       "        vertical-align: top;\n",
       "    }\n",
       "\n",
       "    .dataframe thead th {\n",
       "        text-align: right;\n",
       "    }\n",
       "</style>\n",
       "<table border=\"1\" class=\"dataframe\">\n",
       "  <thead>\n",
       "    <tr style=\"text-align: right;\">\n",
       "      <th></th>\n",
       "      <th>Year</th>\n",
       "      <th>Price</th>\n",
       "      <th>Fuel</th>\n",
       "      <th>Diesel</th>\n",
       "      <th>Gas</th>\n",
       "    </tr>\n",
       "  </thead>\n",
       "  <tbody>\n",
       "    <tr>\n",
       "      <th>0</th>\n",
       "      <td>1995.0</td>\n",
       "      <td>33830.17</td>\n",
       "      <td>Gas</td>\n",
       "      <td>0</td>\n",
       "      <td>1</td>\n",
       "    </tr>\n",
       "    <tr>\n",
       "      <th>1</th>\n",
       "      <td>2003.0</td>\n",
       "      <td>38551.60</td>\n",
       "      <td>Gas</td>\n",
       "      <td>0</td>\n",
       "      <td>1</td>\n",
       "    </tr>\n",
       "    <tr>\n",
       "      <th>2</th>\n",
       "      <td>1971.0</td>\n",
       "      <td>14142.30</td>\n",
       "      <td>Gas</td>\n",
       "      <td>0</td>\n",
       "      <td>1</td>\n",
       "    </tr>\n",
       "    <tr>\n",
       "      <th>3</th>\n",
       "      <td>1988.0</td>\n",
       "      <td>16194.56</td>\n",
       "      <td>Gas</td>\n",
       "      <td>0</td>\n",
       "      <td>1</td>\n",
       "    </tr>\n",
       "    <tr>\n",
       "      <th>4</th>\n",
       "      <td>1985.0</td>\n",
       "      <td>44012.93</td>\n",
       "      <td>Diesel</td>\n",
       "      <td>1</td>\n",
       "      <td>0</td>\n",
       "    </tr>\n",
       "    <tr>\n",
       "      <th>...</th>\n",
       "      <td>...</td>\n",
       "      <td>...</td>\n",
       "      <td>...</td>\n",
       "      <td>...</td>\n",
       "      <td>...</td>\n",
       "    </tr>\n",
       "    <tr>\n",
       "      <th>95</th>\n",
       "      <td>1990.0</td>\n",
       "      <td>24665.51</td>\n",
       "      <td>Diesel</td>\n",
       "      <td>1</td>\n",
       "      <td>0</td>\n",
       "    </tr>\n",
       "    <tr>\n",
       "      <th>96</th>\n",
       "      <td>1977.0</td>\n",
       "      <td>26828.20</td>\n",
       "      <td>Gas</td>\n",
       "      <td>0</td>\n",
       "      <td>1</td>\n",
       "    </tr>\n",
       "    <tr>\n",
       "      <th>97</th>\n",
       "      <td>2000.0</td>\n",
       "      <td>11709.96</td>\n",
       "      <td>Gas</td>\n",
       "      <td>0</td>\n",
       "      <td>1</td>\n",
       "    </tr>\n",
       "    <tr>\n",
       "      <th>98</th>\n",
       "      <td>1998.0</td>\n",
       "      <td>36872.46</td>\n",
       "      <td>Gas</td>\n",
       "      <td>0</td>\n",
       "      <td>1</td>\n",
       "    </tr>\n",
       "    <tr>\n",
       "      <th>99</th>\n",
       "      <td>1976.0</td>\n",
       "      <td>26060.69</td>\n",
       "      <td>Gas</td>\n",
       "      <td>0</td>\n",
       "      <td>1</td>\n",
       "    </tr>\n",
       "  </tbody>\n",
       "</table>\n",
       "<p>100 rows × 5 columns</p>\n",
       "</div>"
      ],
      "text/plain": [
       "      Year     Price    Fuel  Diesel  Gas\n",
       "0   1995.0  33830.17     Gas       0    1\n",
       "1   2003.0  38551.60     Gas       0    1\n",
       "2   1971.0  14142.30     Gas       0    1\n",
       "3   1988.0  16194.56     Gas       0    1\n",
       "4   1985.0  44012.93  Diesel       1    0\n",
       "..     ...       ...     ...     ...  ...\n",
       "95  1990.0  24665.51  Diesel       1    0\n",
       "96  1977.0  26828.20     Gas       0    1\n",
       "97  2000.0  11709.96     Gas       0    1\n",
       "98  1998.0  36872.46     Gas       0    1\n",
       "99  1976.0  26060.69     Gas       0    1\n",
       "\n",
       "[100 rows x 5 columns]"
      ]
     },
     "execution_count": 36,
     "metadata": {},
     "output_type": "execute_result"
    }
   ],
   "source": [
    "pd.get_dummies(df[\"Fuel\"])\n",
    "df = pd.concat([df, pd.get_dummies(df[\"Fuel\"]).reindex(df.index)], axis=1)\n",
    "df"
   ]
  },
  {
   "cell_type": "markdown",
   "id": "e0f3fb86",
   "metadata": {},
   "source": [
    "# Exploratory Data Analysis"
   ]
  },
  {
   "cell_type": "markdown",
   "id": "a84a8cf2",
   "metadata": {},
   "source": [
    "## Box Plots\n",
    "\n",
    "<img src=\"boxplot.jpg\" width=\"300\" height=\"300\">"
   ]
  },
  {
   "cell_type": "code",
   "execution_count": null,
   "id": "e031b5b1",
   "metadata": {},
   "outputs": [],
   "source": []
  },
  {
   "cell_type": "markdown",
   "id": "5ed4a959",
   "metadata": {
    "heading_collapsed": true
   },
   "source": [
    "### Importing Data"
   ]
  },
  {
   "cell_type": "code",
   "execution_count": 3,
   "id": "ac11f165",
   "metadata": {
    "hidden": true
   },
   "outputs": [
    {
     "data": {
      "text/html": [
       "<div>\n",
       "<style scoped>\n",
       "    .dataframe tbody tr th:only-of-type {\n",
       "        vertical-align: middle;\n",
       "    }\n",
       "\n",
       "    .dataframe tbody tr th {\n",
       "        vertical-align: top;\n",
       "    }\n",
       "\n",
       "    .dataframe thead th {\n",
       "        text-align: right;\n",
       "    }\n",
       "</style>\n",
       "<table border=\"1\" class=\"dataframe\">\n",
       "  <thead>\n",
       "    <tr style=\"text-align: right;\">\n",
       "      <th></th>\n",
       "      <th>symboling</th>\n",
       "      <th>normalized-losses</th>\n",
       "      <th>make</th>\n",
       "      <th>aspiration</th>\n",
       "      <th>num-of-doors</th>\n",
       "      <th>body-style</th>\n",
       "      <th>drive-wheels</th>\n",
       "      <th>engine-location</th>\n",
       "      <th>wheel-base</th>\n",
       "      <th>length</th>\n",
       "      <th>...</th>\n",
       "      <th>compression-ratio</th>\n",
       "      <th>horsepower</th>\n",
       "      <th>peak-rpm</th>\n",
       "      <th>city-mpg</th>\n",
       "      <th>highway-mpg</th>\n",
       "      <th>price</th>\n",
       "      <th>city-L/100km</th>\n",
       "      <th>horsepower-binned</th>\n",
       "      <th>diesel</th>\n",
       "      <th>gas</th>\n",
       "    </tr>\n",
       "  </thead>\n",
       "  <tbody>\n",
       "    <tr>\n",
       "      <th>0</th>\n",
       "      <td>3</td>\n",
       "      <td>122</td>\n",
       "      <td>alfa-romero</td>\n",
       "      <td>std</td>\n",
       "      <td>two</td>\n",
       "      <td>convertible</td>\n",
       "      <td>rwd</td>\n",
       "      <td>front</td>\n",
       "      <td>88.6</td>\n",
       "      <td>0.811148</td>\n",
       "      <td>...</td>\n",
       "      <td>9.0</td>\n",
       "      <td>111.0</td>\n",
       "      <td>5000.0</td>\n",
       "      <td>21</td>\n",
       "      <td>27</td>\n",
       "      <td>13495.0</td>\n",
       "      <td>11.190476</td>\n",
       "      <td>Medium</td>\n",
       "      <td>0</td>\n",
       "      <td>1</td>\n",
       "    </tr>\n",
       "    <tr>\n",
       "      <th>1</th>\n",
       "      <td>3</td>\n",
       "      <td>122</td>\n",
       "      <td>alfa-romero</td>\n",
       "      <td>std</td>\n",
       "      <td>two</td>\n",
       "      <td>convertible</td>\n",
       "      <td>rwd</td>\n",
       "      <td>front</td>\n",
       "      <td>88.6</td>\n",
       "      <td>0.811148</td>\n",
       "      <td>...</td>\n",
       "      <td>9.0</td>\n",
       "      <td>111.0</td>\n",
       "      <td>5000.0</td>\n",
       "      <td>21</td>\n",
       "      <td>27</td>\n",
       "      <td>16500.0</td>\n",
       "      <td>11.190476</td>\n",
       "      <td>Medium</td>\n",
       "      <td>0</td>\n",
       "      <td>1</td>\n",
       "    </tr>\n",
       "    <tr>\n",
       "      <th>2</th>\n",
       "      <td>1</td>\n",
       "      <td>122</td>\n",
       "      <td>alfa-romero</td>\n",
       "      <td>std</td>\n",
       "      <td>two</td>\n",
       "      <td>hatchback</td>\n",
       "      <td>rwd</td>\n",
       "      <td>front</td>\n",
       "      <td>94.5</td>\n",
       "      <td>0.822681</td>\n",
       "      <td>...</td>\n",
       "      <td>9.0</td>\n",
       "      <td>154.0</td>\n",
       "      <td>5000.0</td>\n",
       "      <td>19</td>\n",
       "      <td>26</td>\n",
       "      <td>16500.0</td>\n",
       "      <td>12.368421</td>\n",
       "      <td>Medium</td>\n",
       "      <td>0</td>\n",
       "      <td>1</td>\n",
       "    </tr>\n",
       "    <tr>\n",
       "      <th>3</th>\n",
       "      <td>2</td>\n",
       "      <td>164</td>\n",
       "      <td>audi</td>\n",
       "      <td>std</td>\n",
       "      <td>four</td>\n",
       "      <td>sedan</td>\n",
       "      <td>fwd</td>\n",
       "      <td>front</td>\n",
       "      <td>99.8</td>\n",
       "      <td>0.848630</td>\n",
       "      <td>...</td>\n",
       "      <td>10.0</td>\n",
       "      <td>102.0</td>\n",
       "      <td>5500.0</td>\n",
       "      <td>24</td>\n",
       "      <td>30</td>\n",
       "      <td>13950.0</td>\n",
       "      <td>9.791667</td>\n",
       "      <td>Medium</td>\n",
       "      <td>0</td>\n",
       "      <td>1</td>\n",
       "    </tr>\n",
       "    <tr>\n",
       "      <th>4</th>\n",
       "      <td>2</td>\n",
       "      <td>164</td>\n",
       "      <td>audi</td>\n",
       "      <td>std</td>\n",
       "      <td>four</td>\n",
       "      <td>sedan</td>\n",
       "      <td>4wd</td>\n",
       "      <td>front</td>\n",
       "      <td>99.4</td>\n",
       "      <td>0.848630</td>\n",
       "      <td>...</td>\n",
       "      <td>8.0</td>\n",
       "      <td>115.0</td>\n",
       "      <td>5500.0</td>\n",
       "      <td>18</td>\n",
       "      <td>22</td>\n",
       "      <td>17450.0</td>\n",
       "      <td>13.055556</td>\n",
       "      <td>Medium</td>\n",
       "      <td>0</td>\n",
       "      <td>1</td>\n",
       "    </tr>\n",
       "  </tbody>\n",
       "</table>\n",
       "<p>5 rows × 29 columns</p>\n",
       "</div>"
      ],
      "text/plain": [
       "   symboling  normalized-losses         make aspiration num-of-doors  \\\n",
       "0          3                122  alfa-romero        std          two   \n",
       "1          3                122  alfa-romero        std          two   \n",
       "2          1                122  alfa-romero        std          two   \n",
       "3          2                164         audi        std         four   \n",
       "4          2                164         audi        std         four   \n",
       "\n",
       "    body-style drive-wheels engine-location  wheel-base    length  ...  \\\n",
       "0  convertible          rwd           front        88.6  0.811148  ...   \n",
       "1  convertible          rwd           front        88.6  0.811148  ...   \n",
       "2    hatchback          rwd           front        94.5  0.822681  ...   \n",
       "3        sedan          fwd           front        99.8  0.848630  ...   \n",
       "4        sedan          4wd           front        99.4  0.848630  ...   \n",
       "\n",
       "   compression-ratio  horsepower  peak-rpm city-mpg highway-mpg    price  \\\n",
       "0                9.0       111.0    5000.0       21          27  13495.0   \n",
       "1                9.0       111.0    5000.0       21          27  16500.0   \n",
       "2                9.0       154.0    5000.0       19          26  16500.0   \n",
       "3               10.0       102.0    5500.0       24          30  13950.0   \n",
       "4                8.0       115.0    5500.0       18          22  17450.0   \n",
       "\n",
       "  city-L/100km  horsepower-binned  diesel  gas  \n",
       "0    11.190476             Medium       0    1  \n",
       "1    11.190476             Medium       0    1  \n",
       "2    12.368421             Medium       0    1  \n",
       "3     9.791667             Medium       0    1  \n",
       "4    13.055556             Medium       0    1  \n",
       "\n",
       "[5 rows x 29 columns]"
      ]
     },
     "execution_count": 3,
     "metadata": {},
     "output_type": "execute_result"
    }
   ],
   "source": [
    "path='https://cf-courses-data.s3.us.cloud-object-storage.appdomain.cloud/IBMDeveloperSkillsNetwork-DA0101EN-SkillsNetwork/labs/Data%20files/automobileEDA.csv'\n",
    "df = pd.read_csv(path)\n",
    "df.head()"
   ]
  }
 ],
 "metadata": {
  "kernelspec": {
   "display_name": "Python 3",
   "language": "python",
   "name": "python3"
  },
  "language_info": {
   "codemirror_mode": {
    "name": "ipython",
    "version": 3
   },
   "file_extension": ".py",
   "mimetype": "text/x-python",
   "name": "python",
   "nbconvert_exporter": "python",
   "pygments_lexer": "ipython3",
   "version": "3.8.3"
  },
  "varInspector": {
   "cols": {
    "lenName": 16,
    "lenType": 16,
    "lenVar": 40
   },
   "kernels_config": {
    "python": {
     "delete_cmd_postfix": "",
     "delete_cmd_prefix": "del ",
     "library": "var_list.py",
     "varRefreshCmd": "print(var_dic_list())"
    },
    "r": {
     "delete_cmd_postfix": ") ",
     "delete_cmd_prefix": "rm(",
     "library": "var_list.r",
     "varRefreshCmd": "cat(var_dic_list()) "
    }
   },
   "position": {
    "height": "278px",
    "left": "1549px",
    "right": "20px",
    "top": "120px",
    "width": "351px"
   },
   "types_to_exclude": [
    "module",
    "function",
    "builtin_function_or_method",
    "instance",
    "_Feature"
   ],
   "window_display": true
  }
 },
 "nbformat": 4,
 "nbformat_minor": 5
}
